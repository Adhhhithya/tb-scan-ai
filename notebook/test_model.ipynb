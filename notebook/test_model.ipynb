{
 "cells": [
  {
   "cell_type": "code",
   "execution_count": 1,
   "id": "3f0d9c30",
   "metadata": {},
   "outputs": [],
   "source": [
    "import numpy as np\n",
    "from tensorflow.keras.models import load_model\n",
    "from sklearn.metrics import classification_report, confusion_matrix\n",
    "import matplotlib.pyplot as plt\n",
    "import seaborn as sns"
   ]
  },
  {
   "cell_type": "code",
   "execution_count": 7,
   "id": "bc0fe12e",
   "metadata": {},
   "outputs": [
    {
     "name": "stderr",
     "output_type": "stream",
     "text": [
      "WARNING:absl:Compiled the loaded model, but the compiled metrics have yet to be built. `model.compile_metrics` will be empty until you train or evaluate the model.\n"
     ]
    },
    {
     "name": "stdout",
     "output_type": "stream",
     "text": [
      "(752, 299, 299, 1)\n"
     ]
    }
   ],
   "source": [
    "X_test = np.load(r\"D:\\Programming\\tb-scan-ai\\model\\X_test.npy\")\n",
    "y_test = np.load(r\"D:\\Programming\\tb-scan-ai\\model\\y_test.npy\")\n",
    "model = load_model(r\"D:\\Programming\\tb-scan-ai\\model\\xception_tb_model.h5\")\n",
    "print(X_test.shape)\n",
    "\n",
    "if X_test.shape[-1] == 1:\n",
    "    X_test_rgb = np.repeat(X_test, 3, axis=-1)\n",
    "else:\n",
    "    X_test_rgb = X_test\n"
   ]
  },
  {
   "cell_type": "code",
   "execution_count": 8,
   "id": "c28965e9",
   "metadata": {},
   "outputs": [
    {
     "name": "stdout",
     "output_type": "stream",
     "text": [
      "\u001b[1m24/24\u001b[0m \u001b[32m━━━━━━━━━━━━━━━━━━━━\u001b[0m\u001b[37m\u001b[0m \u001b[1m133s\u001b[0m 5s/step\n"
     ]
    }
   ],
   "source": [
    "y_pred = model.predict(X_test_rgb)\n",
    "y_pred_labels = (y_pred > 0.5).astype(int).flatten()"
   ]
  },
  {
   "cell_type": "code",
   "execution_count": 9,
   "id": "68cba9be",
   "metadata": {},
   "outputs": [
    {
     "name": "stdout",
     "output_type": "stream",
     "text": [
      "Classification Report:\n",
      "               precision    recall  f1-score   support\n",
      "\n",
      "           0       0.97      0.97      0.97       587\n",
      "           1       0.91      0.88      0.89       165\n",
      "\n",
      "    accuracy                           0.95       752\n",
      "   macro avg       0.94      0.93      0.93       752\n",
      "weighted avg       0.95      0.95      0.95       752\n",
      "\n"
     ]
    }
   ],
   "source": [
    "# Evaluate\n",
    "print(\"Classification Report:\\n\", classification_report(y_test, y_pred_labels))\n",
    "conf_mat = confusion_matrix(y_test, y_pred_labels)"
   ]
  },
  {
   "cell_type": "code",
   "execution_count": 10,
   "id": "fc90636b",
   "metadata": {},
   "outputs": [
    {
     "data": {
      "image/png": "[encoded data removed]",
      "text/plain": [
       "<Figure size 640x480 with 2 Axes>"
      ]
     },
     "metadata": {},
     "output_type": "display_data"
    }
   ],
   "source": [
    "# Plot\n",
    "sns.heatmap(conf_mat, annot=True, fmt=\"d\", cmap=\"Blues\")\n",
    "plt.xlabel(\"Predicted\")\n",
    "plt.ylabel(\"Actual\")\n",
    "plt.title(\"Confusion Matrix\")\n",
    "plt.show()"
   ]
  },
  {
   "cell_type": "code",
   "execution_count": null,
   "id": "b398d4a4",
   "metadata": {},
   "outputs": [],
   "source": []
  },
  {
   "cell_type": "code",
   "execution_count": null,
   "id": "373377c2",
   "metadata": {},
   "outputs": [],
   "source": []
  }
 ],
 "metadata": {
  "kernelspec": {
   "display_name": "venv",
   "language": "python",
   "name": "python3"
  },
  "language_info": {
   "codemirror_mode": {
    "name": "ipython",
    "version": 3
   },
   "file_extension": ".py",
   "mimetype": "text/x-python",
   "name": "python",
   "nbconvert_exporter": "python",
   "pygments_lexer": "ipython3",
   "version": "3.12.7"
  }
 },
 "nbformat": 4,
 "nbformat_minor": 5
}
